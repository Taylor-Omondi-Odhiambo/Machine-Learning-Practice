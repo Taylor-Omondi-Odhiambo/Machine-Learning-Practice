{
 "cells": [
  {
   "cell_type": "code",
   "execution_count": 40,
   "id": "4a5a9fda",
   "metadata": {},
   "outputs": [],
   "source": [
    "import torch\n",
    "import torch.nn as nn\n",
    "import torch.nn.functional as F\n",
    "from torch.optim import Adam\n",
    "\n",
    "import lightning as L # additional tooling for neural networks\n",
    "from torch.utils.data import TensorDataset, DataLoader # needed for training data in a more efficient manner\n",
    "\n",
    "import pandas as pd\n",
    "from sklearn.model_selection import train_test_split"
   ]
  },
  {
   "cell_type": "code",
   "execution_count": 41,
   "id": "933f588b",
   "metadata": {},
   "outputs": [],
   "source": [
    "url = \"https://raw.githubusercontent.com/StatQuest/signa/main/chapter_03/iris.txt\"\n",
    "df = pd.read_table(url, sep = ',', header = None)"
   ]
  },
  {
   "cell_type": "code",
   "execution_count": 42,
   "id": "381507d6",
   "metadata": {},
   "outputs": [
    {
     "data": {
      "application/vnd.microsoft.datawrangler.viewer.v0+json": {
       "columns": [
        {
         "name": "index",
         "rawType": "int64",
         "type": "integer"
        },
        {
         "name": "0",
         "rawType": "float64",
         "type": "float"
        },
        {
         "name": "1",
         "rawType": "float64",
         "type": "float"
        },
        {
         "name": "2",
         "rawType": "float64",
         "type": "float"
        },
        {
         "name": "3",
         "rawType": "float64",
         "type": "float"
        },
        {
         "name": "4",
         "rawType": "object",
         "type": "string"
        }
       ],
       "ref": "66c5535d-0aca-4c43-a465-6fd08b0d37c7",
       "rows": [
        [
         "0",
         "5.1",
         "3.5",
         "1.4",
         "0.2",
         "Iris-setosa"
        ],
        [
         "1",
         "4.9",
         "3.0",
         "1.4",
         "0.2",
         "Iris-setosa"
        ],
        [
         "2",
         "4.7",
         "3.2",
         "1.3",
         "0.2",
         "Iris-setosa"
        ],
        [
         "3",
         "4.6",
         "3.1",
         "1.5",
         "0.2",
         "Iris-setosa"
        ],
        [
         "4",
         "5.0",
         "3.6",
         "1.4",
         "0.2",
         "Iris-setosa"
        ]
       ],
       "shape": {
        "columns": 5,
        "rows": 5
       }
      },
      "text/html": [
       "<div>\n",
       "<style scoped>\n",
       "    .dataframe tbody tr th:only-of-type {\n",
       "        vertical-align: middle;\n",
       "    }\n",
       "\n",
       "    .dataframe tbody tr th {\n",
       "        vertical-align: top;\n",
       "    }\n",
       "\n",
       "    .dataframe thead th {\n",
       "        text-align: right;\n",
       "    }\n",
       "</style>\n",
       "<table border=\"1\" class=\"dataframe\">\n",
       "  <thead>\n",
       "    <tr style=\"text-align: right;\">\n",
       "      <th></th>\n",
       "      <th>0</th>\n",
       "      <th>1</th>\n",
       "      <th>2</th>\n",
       "      <th>3</th>\n",
       "      <th>4</th>\n",
       "    </tr>\n",
       "  </thead>\n",
       "  <tbody>\n",
       "    <tr>\n",
       "      <th>0</th>\n",
       "      <td>5.1</td>\n",
       "      <td>3.5</td>\n",
       "      <td>1.4</td>\n",
       "      <td>0.2</td>\n",
       "      <td>Iris-setosa</td>\n",
       "    </tr>\n",
       "    <tr>\n",
       "      <th>1</th>\n",
       "      <td>4.9</td>\n",
       "      <td>3.0</td>\n",
       "      <td>1.4</td>\n",
       "      <td>0.2</td>\n",
       "      <td>Iris-setosa</td>\n",
       "    </tr>\n",
       "    <tr>\n",
       "      <th>2</th>\n",
       "      <td>4.7</td>\n",
       "      <td>3.2</td>\n",
       "      <td>1.3</td>\n",
       "      <td>0.2</td>\n",
       "      <td>Iris-setosa</td>\n",
       "    </tr>\n",
       "    <tr>\n",
       "      <th>3</th>\n",
       "      <td>4.6</td>\n",
       "      <td>3.1</td>\n",
       "      <td>1.5</td>\n",
       "      <td>0.2</td>\n",
       "      <td>Iris-setosa</td>\n",
       "    </tr>\n",
       "    <tr>\n",
       "      <th>4</th>\n",
       "      <td>5.0</td>\n",
       "      <td>3.6</td>\n",
       "      <td>1.4</td>\n",
       "      <td>0.2</td>\n",
       "      <td>Iris-setosa</td>\n",
       "    </tr>\n",
       "  </tbody>\n",
       "</table>\n",
       "</div>"
      ],
      "text/plain": [
       "     0    1    2    3            4\n",
       "0  5.1  3.5  1.4  0.2  Iris-setosa\n",
       "1  4.9  3.0  1.4  0.2  Iris-setosa\n",
       "2  4.7  3.2  1.3  0.2  Iris-setosa\n",
       "3  4.6  3.1  1.5  0.2  Iris-setosa\n",
       "4  5.0  3.6  1.4  0.2  Iris-setosa"
      ]
     },
     "execution_count": 42,
     "metadata": {},
     "output_type": "execute_result"
    }
   ],
   "source": [
    "df.head()"
   ]
  },
  {
   "cell_type": "code",
   "execution_count": 43,
   "id": "77ea3f5d",
   "metadata": {},
   "outputs": [
    {
     "data": {
      "application/vnd.microsoft.datawrangler.viewer.v0+json": {
       "columns": [
        {
         "name": "index",
         "rawType": "int64",
         "type": "integer"
        },
        {
         "name": "sepal_length",
         "rawType": "float64",
         "type": "float"
        },
        {
         "name": "sepal_width",
         "rawType": "float64",
         "type": "float"
        },
        {
         "name": "petal_length",
         "rawType": "float64",
         "type": "float"
        },
        {
         "name": "petal_width",
         "rawType": "float64",
         "type": "float"
        },
        {
         "name": "class",
         "rawType": "object",
         "type": "string"
        }
       ],
       "ref": "75451dee-6d56-4856-a2e0-96dc5a890fe0",
       "rows": [
        [
         "0",
         "5.1",
         "3.5",
         "1.4",
         "0.2",
         "Iris-setosa"
        ],
        [
         "1",
         "4.9",
         "3.0",
         "1.4",
         "0.2",
         "Iris-setosa"
        ],
        [
         "2",
         "4.7",
         "3.2",
         "1.3",
         "0.2",
         "Iris-setosa"
        ],
        [
         "3",
         "4.6",
         "3.1",
         "1.5",
         "0.2",
         "Iris-setosa"
        ],
        [
         "4",
         "5.0",
         "3.6",
         "1.4",
         "0.2",
         "Iris-setosa"
        ]
       ],
       "shape": {
        "columns": 5,
        "rows": 5
       }
      },
      "text/html": [
       "<div>\n",
       "<style scoped>\n",
       "    .dataframe tbody tr th:only-of-type {\n",
       "        vertical-align: middle;\n",
       "    }\n",
       "\n",
       "    .dataframe tbody tr th {\n",
       "        vertical-align: top;\n",
       "    }\n",
       "\n",
       "    .dataframe thead th {\n",
       "        text-align: right;\n",
       "    }\n",
       "</style>\n",
       "<table border=\"1\" class=\"dataframe\">\n",
       "  <thead>\n",
       "    <tr style=\"text-align: right;\">\n",
       "      <th></th>\n",
       "      <th>sepal_length</th>\n",
       "      <th>sepal_width</th>\n",
       "      <th>petal_length</th>\n",
       "      <th>petal_width</th>\n",
       "      <th>class</th>\n",
       "    </tr>\n",
       "  </thead>\n",
       "  <tbody>\n",
       "    <tr>\n",
       "      <th>0</th>\n",
       "      <td>5.1</td>\n",
       "      <td>3.5</td>\n",
       "      <td>1.4</td>\n",
       "      <td>0.2</td>\n",
       "      <td>Iris-setosa</td>\n",
       "    </tr>\n",
       "    <tr>\n",
       "      <th>1</th>\n",
       "      <td>4.9</td>\n",
       "      <td>3.0</td>\n",
       "      <td>1.4</td>\n",
       "      <td>0.2</td>\n",
       "      <td>Iris-setosa</td>\n",
       "    </tr>\n",
       "    <tr>\n",
       "      <th>2</th>\n",
       "      <td>4.7</td>\n",
       "      <td>3.2</td>\n",
       "      <td>1.3</td>\n",
       "      <td>0.2</td>\n",
       "      <td>Iris-setosa</td>\n",
       "    </tr>\n",
       "    <tr>\n",
       "      <th>3</th>\n",
       "      <td>4.6</td>\n",
       "      <td>3.1</td>\n",
       "      <td>1.5</td>\n",
       "      <td>0.2</td>\n",
       "      <td>Iris-setosa</td>\n",
       "    </tr>\n",
       "    <tr>\n",
       "      <th>4</th>\n",
       "      <td>5.0</td>\n",
       "      <td>3.6</td>\n",
       "      <td>1.4</td>\n",
       "      <td>0.2</td>\n",
       "      <td>Iris-setosa</td>\n",
       "    </tr>\n",
       "  </tbody>\n",
       "</table>\n",
       "</div>"
      ],
      "text/plain": [
       "   sepal_length  sepal_width  petal_length  petal_width        class\n",
       "0           5.1          3.5           1.4          0.2  Iris-setosa\n",
       "1           4.9          3.0           1.4          0.2  Iris-setosa\n",
       "2           4.7          3.2           1.3          0.2  Iris-setosa\n",
       "3           4.6          3.1           1.5          0.2  Iris-setosa\n",
       "4           5.0          3.6           1.4          0.2  Iris-setosa"
      ]
     },
     "execution_count": 43,
     "metadata": {},
     "output_type": "execute_result"
    }
   ],
   "source": [
    "df.columns = ['sepal_length', 'sepal_width', 'petal_length', 'petal_width', 'class']\n",
    "\n",
    "df.head()"
   ]
  },
  {
   "cell_type": "code",
   "execution_count": 44,
   "id": "fdc0f534",
   "metadata": {},
   "outputs": [
    {
     "data": {
      "text/plain": [
       "(150, 5)"
      ]
     },
     "execution_count": 44,
     "metadata": {},
     "output_type": "execute_result"
    }
   ],
   "source": [
    "# See how many rows and columns we have\n",
    "df.shape"
   ]
  },
  {
   "cell_type": "code",
   "execution_count": 45,
   "id": "846c7452",
   "metadata": {},
   "outputs": [
    {
     "data": {
      "text/plain": [
       "3"
      ]
     },
     "execution_count": 45,
     "metadata": {},
     "output_type": "execute_result"
    }
   ],
   "source": [
    "# see how many classes we have\n",
    "df['class'].nunique()"
   ]
  },
  {
   "cell_type": "code",
   "execution_count": 46,
   "id": "e2ef6d32",
   "metadata": {},
   "outputs": [
    {
     "name": "stdout",
     "output_type": "stream",
     "text": [
      "Iris-setosa:50\n",
      "Iris-versicolor:50\n",
      "Iris-virginica:50\n"
     ]
    }
   ],
   "source": [
    "# print the number in each class\n",
    "for class_name in df['class'].unique():\n",
    "    print(class_name, ':', sum(df['class'] == class_name), sep = '')"
   ]
  },
  {
   "cell_type": "code",
   "execution_count": 47,
   "id": "fa426d65",
   "metadata": {},
   "outputs": [
    {
     "data": {
      "application/vnd.microsoft.datawrangler.viewer.v0+json": {
       "columns": [
        {
         "name": "index",
         "rawType": "int64",
         "type": "integer"
        },
        {
         "name": "petal_width",
         "rawType": "float64",
         "type": "float"
        },
        {
         "name": "sepal_width",
         "rawType": "float64",
         "type": "float"
        }
       ],
       "ref": "11471b8f-98ea-43a3-8882-8001bd033239",
       "rows": [
        [
         "0",
         "0.2",
         "3.5"
        ],
        [
         "1",
         "0.2",
         "3.0"
        ],
        [
         "2",
         "0.2",
         "3.2"
        ],
        [
         "3",
         "0.2",
         "3.1"
        ],
        [
         "4",
         "0.2",
         "3.6"
        ]
       ],
       "shape": {
        "columns": 2,
        "rows": 5
       }
      },
      "text/html": [
       "<div>\n",
       "<style scoped>\n",
       "    .dataframe tbody tr th:only-of-type {\n",
       "        vertical-align: middle;\n",
       "    }\n",
       "\n",
       "    .dataframe tbody tr th {\n",
       "        vertical-align: top;\n",
       "    }\n",
       "\n",
       "    .dataframe thead th {\n",
       "        text-align: right;\n",
       "    }\n",
       "</style>\n",
       "<table border=\"1\" class=\"dataframe\">\n",
       "  <thead>\n",
       "    <tr style=\"text-align: right;\">\n",
       "      <th></th>\n",
       "      <th>petal_width</th>\n",
       "      <th>sepal_width</th>\n",
       "    </tr>\n",
       "  </thead>\n",
       "  <tbody>\n",
       "    <tr>\n",
       "      <th>0</th>\n",
       "      <td>0.2</td>\n",
       "      <td>3.5</td>\n",
       "    </tr>\n",
       "    <tr>\n",
       "      <th>1</th>\n",
       "      <td>0.2</td>\n",
       "      <td>3.0</td>\n",
       "    </tr>\n",
       "    <tr>\n",
       "      <th>2</th>\n",
       "      <td>0.2</td>\n",
       "      <td>3.2</td>\n",
       "    </tr>\n",
       "    <tr>\n",
       "      <th>3</th>\n",
       "      <td>0.2</td>\n",
       "      <td>3.1</td>\n",
       "    </tr>\n",
       "    <tr>\n",
       "      <th>4</th>\n",
       "      <td>0.2</td>\n",
       "      <td>3.6</td>\n",
       "    </tr>\n",
       "  </tbody>\n",
       "</table>\n",
       "</div>"
      ],
      "text/plain": [
       "   petal_width  sepal_width\n",
       "0          0.2          3.5\n",
       "1          0.2          3.0\n",
       "2          0.2          3.2\n",
       "3          0.2          3.1\n",
       "4          0.2          3.6"
      ]
     },
     "execution_count": 47,
     "metadata": {},
     "output_type": "execute_result"
    }
   ],
   "source": [
    "df[['petal_width', 'sepal_width']].head()"
   ]
  },
  {
   "cell_type": "code",
   "execution_count": 48,
   "id": "f1dd2174",
   "metadata": {},
   "outputs": [
    {
     "data": {
      "application/vnd.microsoft.datawrangler.viewer.v0+json": {
       "columns": [
        {
         "name": "index",
         "rawType": "int64",
         "type": "integer"
        },
        {
         "name": "petal_width",
         "rawType": "float64",
         "type": "float"
        },
        {
         "name": "sepal_width",
         "rawType": "float64",
         "type": "float"
        }
       ],
       "ref": "b2aa93dd-1f1d-48a1-a570-d052965c2c63",
       "rows": [
        [
         "0",
         "0.2",
         "3.5"
        ],
        [
         "1",
         "0.2",
         "3.0"
        ],
        [
         "2",
         "0.2",
         "3.2"
        ],
        [
         "3",
         "0.2",
         "3.1"
        ],
        [
         "4",
         "0.2",
         "3.6"
        ]
       ],
       "shape": {
        "columns": 2,
        "rows": 5
       }
      },
      "text/html": [
       "<div>\n",
       "<style scoped>\n",
       "    .dataframe tbody tr th:only-of-type {\n",
       "        vertical-align: middle;\n",
       "    }\n",
       "\n",
       "    .dataframe tbody tr th {\n",
       "        vertical-align: top;\n",
       "    }\n",
       "\n",
       "    .dataframe thead th {\n",
       "        text-align: right;\n",
       "    }\n",
       "</style>\n",
       "<table border=\"1\" class=\"dataframe\">\n",
       "  <thead>\n",
       "    <tr style=\"text-align: right;\">\n",
       "      <th></th>\n",
       "      <th>petal_width</th>\n",
       "      <th>sepal_width</th>\n",
       "    </tr>\n",
       "  </thead>\n",
       "  <tbody>\n",
       "    <tr>\n",
       "      <th>0</th>\n",
       "      <td>0.2</td>\n",
       "      <td>3.5</td>\n",
       "    </tr>\n",
       "    <tr>\n",
       "      <th>1</th>\n",
       "      <td>0.2</td>\n",
       "      <td>3.0</td>\n",
       "    </tr>\n",
       "    <tr>\n",
       "      <th>2</th>\n",
       "      <td>0.2</td>\n",
       "      <td>3.2</td>\n",
       "    </tr>\n",
       "    <tr>\n",
       "      <th>3</th>\n",
       "      <td>0.2</td>\n",
       "      <td>3.1</td>\n",
       "    </tr>\n",
       "    <tr>\n",
       "      <th>4</th>\n",
       "      <td>0.2</td>\n",
       "      <td>3.6</td>\n",
       "    </tr>\n",
       "  </tbody>\n",
       "</table>\n",
       "</div>"
      ],
      "text/plain": [
       "   petal_width  sepal_width\n",
       "0          0.2          3.5\n",
       "1          0.2          3.0\n",
       "2          0.2          3.2\n",
       "3          0.2          3.1\n",
       "4          0.2          3.6"
      ]
     },
     "execution_count": 48,
     "metadata": {},
     "output_type": "execute_result"
    }
   ],
   "source": [
    "input_values = df[['petal_width', 'sepal_width']]\n",
    "input_values.head()"
   ]
  },
  {
   "cell_type": "code",
   "execution_count": 49,
   "id": "33c34b4e",
   "metadata": {},
   "outputs": [
    {
     "data": {
      "application/vnd.microsoft.datawrangler.viewer.v0+json": {
       "columns": [
        {
         "name": "index",
         "rawType": "int64",
         "type": "integer"
        },
        {
         "name": "class",
         "rawType": "object",
         "type": "string"
        }
       ],
       "ref": "4eb26b4f-0824-41e8-b119-c767ceddea08",
       "rows": [
        [
         "0",
         "Iris-setosa"
        ],
        [
         "1",
         "Iris-setosa"
        ],
        [
         "2",
         "Iris-setosa"
        ],
        [
         "3",
         "Iris-setosa"
        ],
        [
         "4",
         "Iris-setosa"
        ]
       ],
       "shape": {
        "columns": 1,
        "rows": 5
       }
      },
      "text/plain": [
       "0    Iris-setosa\n",
       "1    Iris-setosa\n",
       "2    Iris-setosa\n",
       "3    Iris-setosa\n",
       "4    Iris-setosa\n",
       "Name: class, dtype: object"
      ]
     },
     "execution_count": 49,
     "metadata": {},
     "output_type": "execute_result"
    }
   ],
   "source": [
    "label_values = df['class']\n",
    "label_values.head()"
   ]
  },
  {
   "cell_type": "code",
   "execution_count": 50,
   "id": "3e42f87d",
   "metadata": {},
   "outputs": [
    {
     "data": {
      "text/plain": [
       "array([0, 0, 0, 0, 0, 0, 0, 0, 0, 0, 0, 0, 0, 0, 0, 0, 0, 0, 0, 0, 0, 0,\n",
       "       0, 0, 0, 0, 0, 0, 0, 0, 0, 0, 0, 0, 0, 0, 0, 0, 0, 0, 0, 0, 0, 0,\n",
       "       0, 0, 0, 0, 0, 0, 1, 1, 1, 1, 1, 1, 1, 1, 1, 1, 1, 1, 1, 1, 1, 1,\n",
       "       1, 1, 1, 1, 1, 1, 1, 1, 1, 1, 1, 1, 1, 1, 1, 1, 1, 1, 1, 1, 1, 1,\n",
       "       1, 1, 1, 1, 1, 1, 1, 1, 1, 1, 1, 1, 2, 2, 2, 2, 2, 2, 2, 2, 2, 2,\n",
       "       2, 2, 2, 2, 2, 2, 2, 2, 2, 2, 2, 2, 2, 2, 2, 2, 2, 2, 2, 2, 2, 2,\n",
       "       2, 2, 2, 2, 2, 2, 2, 2, 2, 2, 2, 2, 2, 2, 2, 2, 2, 2])"
      ]
     },
     "execution_count": 50,
     "metadata": {},
     "output_type": "execute_result"
    }
   ],
   "source": [
    "classes_as_numbers = label_values.factorize()[0] # This is label encoding not good cause the data isn't ordinal\n",
    "\n",
    "classes_as_numbers"
   ]
  },
  {
   "cell_type": "code",
   "execution_count": 51,
   "id": "8b5861a0",
   "metadata": {},
   "outputs": [],
   "source": [
    "input_train, input_test, label_train, label_test = train_test_split(\n",
    "    input_values,\n",
    "    classes_as_numbers,\n",
    "    test_size = 0.25,\n",
    "    stratify = classes_as_numbers # used to make sure a good split of classes among both the train and test data\n",
    ")"
   ]
  },
  {
   "cell_type": "code",
   "execution_count": 52,
   "id": "635569e8",
   "metadata": {},
   "outputs": [
    {
     "data": {
      "text/plain": [
       "(112, 2)"
      ]
     },
     "execution_count": 52,
     "metadata": {},
     "output_type": "execute_result"
    }
   ],
   "source": [
    "input_train.shape"
   ]
  },
  {
   "cell_type": "code",
   "execution_count": 53,
   "id": "ee982cc2",
   "metadata": {},
   "outputs": [
    {
     "data": {
      "text/plain": [
       "(112,)"
      ]
     },
     "execution_count": 53,
     "metadata": {},
     "output_type": "execute_result"
    }
   ],
   "source": [
    "label_train.shape"
   ]
  },
  {
   "cell_type": "code",
   "execution_count": 54,
   "id": "56c0c7bc",
   "metadata": {},
   "outputs": [
    {
     "data": {
      "text/plain": [
       "(38, 2)"
      ]
     },
     "execution_count": 54,
     "metadata": {},
     "output_type": "execute_result"
    }
   ],
   "source": [
    "input_test.shape"
   ]
  },
  {
   "cell_type": "code",
   "execution_count": 55,
   "id": "bb7fd14e",
   "metadata": {},
   "outputs": [
    {
     "data": {
      "text/plain": [
       "(112, 2)"
      ]
     },
     "execution_count": 55,
     "metadata": {},
     "output_type": "execute_result"
    }
   ],
   "source": [
    "input_train.shape"
   ]
  },
  {
   "cell_type": "code",
   "execution_count": 56,
   "id": "82c112c1",
   "metadata": {},
   "outputs": [],
   "source": [
    "# use one hot encoding on the classes\n",
    "one_hot_label_train = F.one_hot(torch.tensor(label_train)).type(torch.float32)"
   ]
  },
  {
   "cell_type": "code",
   "execution_count": 57,
   "id": "2b02f45f",
   "metadata": {},
   "outputs": [
    {
     "data": {
      "text/plain": [
       "tensor([[0., 0., 1.],\n",
       "        [0., 1., 0.],\n",
       "        [0., 1., 0.],\n",
       "        [1., 0., 0.],\n",
       "        [0., 0., 1.],\n",
       "        [0., 1., 0.],\n",
       "        [0., 0., 1.],\n",
       "        [1., 0., 0.],\n",
       "        [0., 1., 0.],\n",
       "        [0., 0., 1.]])"
      ]
     },
     "execution_count": 57,
     "metadata": {},
     "output_type": "execute_result"
    }
   ],
   "source": [
    "one_hot_label_train[:10]"
   ]
  },
  {
   "cell_type": "markdown",
   "metadata": {},
   "source": [
    "### Feature scaling by normalizing the data (min max scaling)"
   ]
  },
  {
   "cell_type": "code",
   "execution_count": 58,
   "id": "76cb6161",
   "metadata": {},
   "outputs": [
    {
     "data": {
      "application/vnd.microsoft.datawrangler.viewer.v0+json": {
       "columns": [
        {
         "name": "index",
         "rawType": "object",
         "type": "string"
        },
        {
         "name": "0",
         "rawType": "float64",
         "type": "float"
        }
       ],
       "ref": "36d74986-4e6b-4a8d-aa85-4530c25728f1",
       "rows": [
        [
         "petal_width",
         "2.5"
        ],
        [
         "sepal_width",
         "4.4"
        ]
       ],
       "shape": {
        "columns": 1,
        "rows": 2
       }
      },
      "text/plain": [
       "petal_width    2.5\n",
       "sepal_width    4.4\n",
       "dtype: float64"
      ]
     },
     "execution_count": 58,
     "metadata": {},
     "output_type": "execute_result"
    }
   ],
   "source": [
    "max_vals_in_input_train = input_train.max()\n",
    "\n",
    "max_vals_in_input_train"
   ]
  },
  {
   "cell_type": "code",
   "execution_count": 59,
   "id": "11067cda",
   "metadata": {},
   "outputs": [
    {
     "data": {
      "application/vnd.microsoft.datawrangler.viewer.v0+json": {
       "columns": [
        {
         "name": "index",
         "rawType": "object",
         "type": "string"
        },
        {
         "name": "0",
         "rawType": "float64",
         "type": "float"
        }
       ],
       "ref": "55e356a4-9488-44b0-80a3-4cf9a5750f1e",
       "rows": [
        [
         "petal_width",
         "0.1"
        ],
        [
         "sepal_width",
         "2.0"
        ]
       ],
       "shape": {
        "columns": 1,
        "rows": 2
       }
      },
      "text/plain": [
       "petal_width    0.1\n",
       "sepal_width    2.0\n",
       "dtype: float64"
      ]
     },
     "execution_count": 59,
     "metadata": {},
     "output_type": "execute_result"
    }
   ],
   "source": [
    "min_vals_in_input_train = input_train.min()\n",
    "\n",
    "min_vals_in_input_train"
   ]
  },
  {
   "cell_type": "code",
   "execution_count": 60,
   "id": "e2cc81e1",
   "metadata": {},
   "outputs": [
    {
     "data": {
      "application/vnd.microsoft.datawrangler.viewer.v0+json": {
       "columns": [
        {
         "name": "index",
         "rawType": "int64",
         "type": "integer"
        },
        {
         "name": "petal_width",
         "rawType": "float64",
         "type": "float"
        },
        {
         "name": "sepal_width",
         "rawType": "float64",
         "type": "float"
        }
       ],
       "ref": "ff47057b-6811-4dee-b5f3-7e6386830074",
       "rows": [
        [
         "113",
         "0.7916666666666666",
         "0.20833333333333331"
        ],
        [
         "76",
         "0.5416666666666666",
         "0.3333333333333332"
        ],
        [
         "72",
         "0.5833333333333334",
         "0.20833333333333331"
        ],
        [
         "31",
         "0.12500000000000003",
         "0.5833333333333333"
        ],
        [
         "100",
         "1.0",
         "0.5416666666666665"
        ]
       ],
       "shape": {
        "columns": 2,
        "rows": 5
       }
      },
      "text/html": [
       "<div>\n",
       "<style scoped>\n",
       "    .dataframe tbody tr th:only-of-type {\n",
       "        vertical-align: middle;\n",
       "    }\n",
       "\n",
       "    .dataframe tbody tr th {\n",
       "        vertical-align: top;\n",
       "    }\n",
       "\n",
       "    .dataframe thead th {\n",
       "        text-align: right;\n",
       "    }\n",
       "</style>\n",
       "<table border=\"1\" class=\"dataframe\">\n",
       "  <thead>\n",
       "    <tr style=\"text-align: right;\">\n",
       "      <th></th>\n",
       "      <th>petal_width</th>\n",
       "      <th>sepal_width</th>\n",
       "    </tr>\n",
       "  </thead>\n",
       "  <tbody>\n",
       "    <tr>\n",
       "      <th>113</th>\n",
       "      <td>0.791667</td>\n",
       "      <td>0.208333</td>\n",
       "    </tr>\n",
       "    <tr>\n",
       "      <th>76</th>\n",
       "      <td>0.541667</td>\n",
       "      <td>0.333333</td>\n",
       "    </tr>\n",
       "    <tr>\n",
       "      <th>72</th>\n",
       "      <td>0.583333</td>\n",
       "      <td>0.208333</td>\n",
       "    </tr>\n",
       "    <tr>\n",
       "      <th>31</th>\n",
       "      <td>0.125000</td>\n",
       "      <td>0.583333</td>\n",
       "    </tr>\n",
       "    <tr>\n",
       "      <th>100</th>\n",
       "      <td>1.000000</td>\n",
       "      <td>0.541667</td>\n",
       "    </tr>\n",
       "  </tbody>\n",
       "</table>\n",
       "</div>"
      ],
      "text/plain": [
       "     petal_width  sepal_width\n",
       "113     0.791667     0.208333\n",
       "76      0.541667     0.333333\n",
       "72      0.583333     0.208333\n",
       "31      0.125000     0.583333\n",
       "100     1.000000     0.541667"
      ]
     },
     "execution_count": 60,
     "metadata": {},
     "output_type": "execute_result"
    }
   ],
   "source": [
    "# normalize the input train data\n",
    "input_train = (input_train - min_vals_in_input_train) / (max_vals_in_input_train - min_vals_in_input_train)\n",
    "input_train.head()"
   ]
  },
  {
   "cell_type": "code",
   "execution_count": 61,
   "id": "32514e95",
   "metadata": {},
   "outputs": [
    {
     "data": {
      "application/vnd.microsoft.datawrangler.viewer.v0+json": {
       "columns": [
        {
         "name": "index",
         "rawType": "int64",
         "type": "integer"
        },
        {
         "name": "petal_width",
         "rawType": "float64",
         "type": "float"
        },
        {
         "name": "sepal_width",
         "rawType": "float64",
         "type": "float"
        }
       ],
       "ref": "a0db0293-94ec-4b5a-8a97-dccebe8addcf",
       "rows": [
        [
         "33",
         "0.04166666666666667",
         "0.9166666666666666"
        ],
        [
         "39",
         "0.04166666666666667",
         "0.5833333333333333"
        ],
        [
         "138",
         "0.7083333333333334",
         "0.41666666666666663"
        ],
        [
         "132",
         "0.8750000000000001",
         "0.3333333333333332"
        ],
        [
         "134",
         "0.5416666666666666",
         "0.25"
        ]
       ],
       "shape": {
        "columns": 2,
        "rows": 5
       }
      },
      "text/html": [
       "<div>\n",
       "<style scoped>\n",
       "    .dataframe tbody tr th:only-of-type {\n",
       "        vertical-align: middle;\n",
       "    }\n",
       "\n",
       "    .dataframe tbody tr th {\n",
       "        vertical-align: top;\n",
       "    }\n",
       "\n",
       "    .dataframe thead th {\n",
       "        text-align: right;\n",
       "    }\n",
       "</style>\n",
       "<table border=\"1\" class=\"dataframe\">\n",
       "  <thead>\n",
       "    <tr style=\"text-align: right;\">\n",
       "      <th></th>\n",
       "      <th>petal_width</th>\n",
       "      <th>sepal_width</th>\n",
       "    </tr>\n",
       "  </thead>\n",
       "  <tbody>\n",
       "    <tr>\n",
       "      <th>33</th>\n",
       "      <td>0.041667</td>\n",
       "      <td>0.916667</td>\n",
       "    </tr>\n",
       "    <tr>\n",
       "      <th>39</th>\n",
       "      <td>0.041667</td>\n",
       "      <td>0.583333</td>\n",
       "    </tr>\n",
       "    <tr>\n",
       "      <th>138</th>\n",
       "      <td>0.708333</td>\n",
       "      <td>0.416667</td>\n",
       "    </tr>\n",
       "    <tr>\n",
       "      <th>132</th>\n",
       "      <td>0.875000</td>\n",
       "      <td>0.333333</td>\n",
       "    </tr>\n",
       "    <tr>\n",
       "      <th>134</th>\n",
       "      <td>0.541667</td>\n",
       "      <td>0.250000</td>\n",
       "    </tr>\n",
       "  </tbody>\n",
       "</table>\n",
       "</div>"
      ],
      "text/plain": [
       "     petal_width  sepal_width\n",
       "33      0.041667     0.916667\n",
       "39      0.041667     0.583333\n",
       "138     0.708333     0.416667\n",
       "132     0.875000     0.333333\n",
       "134     0.541667     0.250000"
      ]
     },
     "execution_count": 61,
     "metadata": {},
     "output_type": "execute_result"
    }
   ],
   "source": [
    "# normalize the input test data\n",
    "input_test = (input_test - min_vals_in_input_train) / (max_vals_in_input_train - min_vals_in_input_train)\n",
    "input_test.head()"
   ]
  },
  {
   "cell_type": "markdown",
   "id": "b6756287",
   "metadata": {},
   "source": [
    "### Put our data into a dataloader"
   ]
  },
  {
   "cell_type": "code",
   "execution_count": 62,
   "id": "c2c1d4af",
   "metadata": {},
   "outputs": [],
   "source": [
    "# They are good for large datasets cause they make it easy to access data in batches"
   ]
  },
  {
   "cell_type": "code",
   "execution_count": 63,
   "id": "0432ee52",
   "metadata": {},
   "outputs": [
    {
     "data": {
      "text/plain": [
       "tensor([[0.7917, 0.2083],\n",
       "        [0.5417, 0.3333],\n",
       "        [0.5833, 0.2083],\n",
       "        [0.1250, 0.5833],\n",
       "        [1.0000, 0.5417]])"
      ]
     },
     "execution_count": 63,
     "metadata": {},
     "output_type": "execute_result"
    }
   ],
   "source": [
    "## Convert input_train into tensors\n",
    "input_train_tensors = torch.tensor(input_train.values).type(torch.float32)\n",
    "\n",
    "input_train_tensors[:5]"
   ]
  },
  {
   "cell_type": "code",
   "execution_count": 64,
   "id": "392c33e6",
   "metadata": {},
   "outputs": [
    {
     "data": {
      "text/plain": [
       "tensor([[0.0417, 0.9167],\n",
       "        [0.0417, 0.5833],\n",
       "        [0.7083, 0.4167],\n",
       "        [0.8750, 0.3333],\n",
       "        [0.5417, 0.2500]])"
      ]
     },
     "execution_count": 64,
     "metadata": {},
     "output_type": "execute_result"
    }
   ],
   "source": [
    "## Convert input_test into tensors\n",
    "input_test_tensors = torch.tensor(input_test.values).type(torch.float32)\n",
    "\n",
    "input_test_tensors[:5]"
   ]
  },
  {
   "cell_type": "code",
   "execution_count": 65,
   "id": "505bea68",
   "metadata": {},
   "outputs": [],
   "source": [
    "train_dataset = TensorDataset(input_train_tensors, one_hot_label_train)\n",
    "train_dataloader = DataLoader(train_dataset)"
   ]
  },
  {
   "cell_type": "markdown",
   "id": "32acfd80",
   "metadata": {},
   "source": [
    "## Building a neural network with mulitple inputs and outputs "
   ]
  },
  {
   "cell_type": "code",
   "execution_count": 69,
   "id": "40ba5cac",
   "metadata": {},
   "outputs": [],
   "source": [
    "class MultipleInsOuts(L.LightningModule):\n",
    "\n",
    "    def __init__(self):\n",
    "        super().__init__()\n",
    "        L.seed_everything(seed=42)\n",
    "\n",
    "        self.input_to_hidden = nn.Linear(in_features = 2, out_features = 2, bias = True)\n",
    "\n",
    "        self.hidden_to_output = nn.Linear(in_features = 2, out_features = 3, bias = True)\n",
    "\n",
    "        self.loss = nn.MSELoss(reduction = 'sum')\n",
    "\n",
    "    def forward(self, input):\n",
    "\n",
    "        hidden = self.input_to_hidden(input)\n",
    "\n",
    "        output_values = self.hidden_to_output(torch.relu(hidden))\n",
    "\n",
    "        return(output_values)\n",
    "\n",
    "    def configure_optimizers(self):\n",
    "\n",
    "        return Adam(self.parameters(), lr = 0.001)\n",
    "\n",
    "    def training_step(self, batch, batch_idx):\n",
    "\n",
    "        inputs, labels = batch\n",
    "\n",
    "        outputs = self.forward(inputs)\n",
    "\n",
    "        loss = self.loss(outputs, labels)\n",
    "\n",
    "        return loss\n"
   ]
  },
  {
   "cell_type": "code",
   "execution_count": 70,
   "id": "06573113",
   "metadata": {},
   "outputs": [
    {
     "name": "stderr",
     "output_type": "stream",
     "text": [
      "Seed set to 42\n"
     ]
    },
    {
     "name": "stdout",
     "output_type": "stream",
     "text": [
      "input_to_hidden.weight tensor([[ 0.5400,  0.5900],\n",
      "        [-0.1700,  0.6500]])\n",
      "input_to_hidden.bias tensor([-0.1500,  0.1400])\n",
      "hidden_to_output.weight tensor([[-0.3400,  0.4200],\n",
      "        [ 0.6200, -0.5200],\n",
      "        [ 0.6100,  0.1300]])\n",
      "hidden_to_output.bias tensor([0.5200, 0.1000, 0.3400])\n"
     ]
    }
   ],
   "source": [
    "model = MultipleInsOuts()\n",
    "\n",
    "for name, param in model.named_parameters():\n",
    "    print(name, torch.round(param.data, decimals = 2))"
   ]
  },
  {
   "cell_type": "code",
   "execution_count": 71,
   "id": "dfdedabe",
   "metadata": {},
   "outputs": [
    {
     "name": "stderr",
     "output_type": "stream",
     "text": [
      "Seed set to 42\n"
     ]
    }
   ],
   "source": [
    "model = MultipleInsOuts()"
   ]
  },
  {
   "cell_type": "code",
   "execution_count": null,
   "id": "99381299",
   "metadata": {},
   "outputs": [
    {
     "name": "stderr",
     "output_type": "stream",
     "text": [
      "💡 Tip: For seamless cloud uploads and versioning, try installing [litmodels](https://pypi.org/project/litmodels/) to enable LitModelCheckpoint, which syncs automatically with the Lightning model registry.\n",
      "GPU available: False, used: False\n",
      "TPU available: False, using: 0 TPU cores\n",
      "HPU available: False, using: 0 HPUs\n",
      "\n",
      "  | Name             | Type    | Params | Mode \n",
      "-----------------------------------------------------\n",
      "0 | input_to_hidden  | Linear  | 6      | train\n",
      "1 | hidden_to_output | Linear  | 9      | train\n",
      "2 | loss             | MSELoss | 0      | train\n",
      "-----------------------------------------------------\n",
      "15        Trainable params\n",
      "0         Non-trainable params\n",
      "15        Total params\n",
      "0.000     Total estimated model params size (MB)\n",
      "3         Modules in train mode\n",
      "0         Modules in eval mode\n",
      "c:\\Users\\Taylor.Odhiambo\\OneDrive - Kenya Airways PLC\\Documents\\.venv\\Lib\\site-packages\\lightning\\pytorch\\trainer\\connectors\\data_connector.py:433: The 'train_dataloader' does not have many workers which may be a bottleneck. Consider increasing the value of the `num_workers` argument` to `num_workers=11` in the `DataLoader` to improve performance.\n"
     ]
    },
    {
     "name": "stdout",
     "output_type": "stream",
     "text": [
      "Epoch 9: 100%|██████████| 112/112 [00:00<00:00, 416.33it/s, v_num=0]"
     ]
    },
    {
     "name": "stderr",
     "output_type": "stream",
     "text": [
      "`Trainer.fit` stopped: `max_epochs=10` reached.\n"
     ]
    },
    {
     "name": "stdout",
     "output_type": "stream",
     "text": [
      "Epoch 9: 100%|██████████| 112/112 [00:00<00:00, 416.33it/s, v_num=0]\n"
     ]
    }
   ],
   "source": [
    "# Train the neural network\n",
    "trainer = L.Trainer(max_epochs = 10)\n",
    "trainer.fit(model, train_dataloaders = train_dataloader)"
   ]
  },
  {
   "cell_type": "code",
   "execution_count": 74,
   "id": "e96540df",
   "metadata": {},
   "outputs": [],
   "source": [
    "predictions = model(input_test_tensors)"
   ]
  },
  {
   "cell_type": "code",
   "execution_count": 75,
   "id": "c7cf7272",
   "metadata": {},
   "outputs": [
    {
     "data": {
      "text/plain": [
       "tensor([[ 0.9072, -0.0385,  0.0388],\n",
       "        [ 0.7924,  0.0157,  0.0315],\n",
       "        [ 0.0666,  0.4828,  0.5488],\n",
       "        [-0.1292,  0.6064,  0.6772]], grad_fn=<SliceBackward0>)"
      ]
     },
     "execution_count": 75,
     "metadata": {},
     "output_type": "execute_result"
    }
   ],
   "source": [
    "# because the outputs(classifications) are 3 we should get 3 values for each row\n",
    "predictions[0:4]"
   ]
  },
  {
   "cell_type": "code",
   "execution_count": 76,
   "id": "be331761",
   "metadata": {},
   "outputs": [
    {
     "data": {
      "text/plain": [
       "tensor([0, 0, 2, 2])"
      ]
     },
     "execution_count": 76,
     "metadata": {},
     "output_type": "execute_result"
    }
   ],
   "source": [
    "predicted_labels = torch.argmax(predictions, dim = 1) # dim = 0 applies to argmax to rows, dim = 1 applies argmax to columms\n",
    "predicted_labels[0:4]"
   ]
  },
  {
   "cell_type": "code",
   "execution_count": 77,
   "id": "32d2a34d",
   "metadata": {},
   "outputs": [
    {
     "data": {
      "text/plain": [
       "tensor(0.7105)"
      ]
     },
     "execution_count": 77,
     "metadata": {},
     "output_type": "execute_result"
    }
   ],
   "source": [
    "# look at the percentage of correctly predicted values by comparing with test tensor\n",
    "# convert label_test to a tensor first as it is current just a numpy array\n",
    "# add up all cases where predicted labels and the test labels are the same class\n",
    "\n",
    "torch.sum(torch.eq(torch.tensor(label_test), predicted_labels)) / len(predicted_labels)"
   ]
  },
  {
   "cell_type": "markdown",
   "id": "cceeff8c",
   "metadata": {},
   "source": [
    "# Training the model further to get higher accuracy as 71% is quite low"
   ]
  },
  {
   "cell_type": "code",
   "execution_count": 78,
   "id": "160eb801",
   "metadata": {},
   "outputs": [],
   "source": [
    "# find the path to the checkpoint file so we can pick up where we left off.\n",
    "\n",
    "path_to_checkpoint = trainer.checkpoint_callback.best_model_path # by default bests = most recent"
   ]
  },
  {
   "cell_type": "code",
   "execution_count": 79,
   "id": "7e813589",
   "metadata": {},
   "outputs": [
    {
     "name": "stderr",
     "output_type": "stream",
     "text": [
      "💡 Tip: For seamless cloud uploads and versioning, try installing [litmodels](https://pypi.org/project/litmodels/) to enable LitModelCheckpoint, which syncs automatically with the Lightning model registry.\n",
      "GPU available: False, used: False\n",
      "TPU available: False, using: 0 TPU cores\n",
      "HPU available: False, using: 0 HPUs\n",
      "Restoring states from the checkpoint path at c:\\Users\\Taylor.Odhiambo\\OneDrive - Kenya Airways PLC\\Documents\\NeuralNetworks\\lightning_logs\\version_0\\checkpoints\\epoch=9-step=1120.ckpt\n",
      "c:\\Users\\Taylor.Odhiambo\\OneDrive - Kenya Airways PLC\\Documents\\.venv\\Lib\\site-packages\\lightning\\pytorch\\callbacks\\model_checkpoint.py:445: The dirpath has changed from 'c:\\\\Users\\\\Taylor.Odhiambo\\\\OneDrive - Kenya Airways PLC\\\\Documents\\\\NeuralNetworks\\\\lightning_logs\\\\version_0\\\\checkpoints' to 'c:\\\\Users\\\\Taylor.Odhiambo\\\\OneDrive - Kenya Airways PLC\\\\Documents\\\\NeuralNetworks\\\\lightning_logs\\\\version_1\\\\checkpoints', therefore `best_model_score`, `kth_best_model_path`, `kth_value`, `last_model_path` and `best_k_models` won't be reloaded. Only `best_model_path` will be reloaded.\n",
      "\n",
      "  | Name             | Type    | Params | Mode \n",
      "-----------------------------------------------------\n",
      "0 | input_to_hidden  | Linear  | 6      | train\n",
      "1 | hidden_to_output | Linear  | 9      | train\n",
      "2 | loss             | MSELoss | 0      | train\n",
      "-----------------------------------------------------\n",
      "15        Trainable params\n",
      "0         Non-trainable params\n",
      "15        Total params\n",
      "0.000     Total estimated model params size (MB)\n",
      "3         Modules in train mode\n",
      "0         Modules in eval mode\n",
      "Restored all states from the checkpoint at c:\\Users\\Taylor.Odhiambo\\OneDrive - Kenya Airways PLC\\Documents\\NeuralNetworks\\lightning_logs\\version_0\\checkpoints\\epoch=9-step=1120.ckpt\n",
      "c:\\Users\\Taylor.Odhiambo\\OneDrive - Kenya Airways PLC\\Documents\\.venv\\Lib\\site-packages\\lightning\\pytorch\\trainer\\connectors\\data_connector.py:433: The 'train_dataloader' does not have many workers which may be a bottleneck. Consider increasing the value of the `num_workers` argument` to `num_workers=11` in the `DataLoader` to improve performance.\n"
     ]
    },
    {
     "name": "stdout",
     "output_type": "stream",
     "text": [
      "Epoch 99: 100%|██████████| 112/112 [00:00<00:00, 318.71it/s, v_num=1]"
     ]
    },
    {
     "name": "stderr",
     "output_type": "stream",
     "text": [
      "`Trainer.fit` stopped: `max_epochs=100` reached.\n"
     ]
    },
    {
     "name": "stdout",
     "output_type": "stream",
     "text": [
      "Epoch 99: 100%|██████████| 112/112 [00:00<00:00, 316.60it/s, v_num=1]\n"
     ]
    }
   ],
   "source": [
    "# Create a new trainer\n",
    "trainer = L.Trainer(max_epochs = 100)\n",
    "\n",
    "trainer.fit(model, train_dataloaders = train_dataloader, ckpt_path = path_to_checkpoint)"
   ]
  },
  {
   "cell_type": "code",
   "execution_count": 80,
   "id": "ce740c00",
   "metadata": {},
   "outputs": [
    {
     "data": {
      "text/plain": [
       "tensor(0.8421)"
      ]
     },
     "execution_count": 80,
     "metadata": {},
     "output_type": "execute_result"
    }
   ],
   "source": [
    "predictions = model(input_test_tensors)\n",
    "\n",
    "predicted_labels = torch.argmax(predictions, dim = 1)\n",
    "\n",
    "torch.sum(torch.eq(torch.tensor(label_test), predicted_labels)) / len(predicted_labels)"
   ]
  },
  {
   "cell_type": "markdown",
   "id": "dbc4cbb4",
   "metadata": {},
   "source": [
    "Train with new data"
   ]
  },
  {
   "cell_type": "code",
   "execution_count": 81,
   "id": "cefccf4b",
   "metadata": {},
   "outputs": [
    {
     "data": {
      "application/vnd.microsoft.datawrangler.viewer.v0+json": {
       "columns": [
        {
         "name": "index",
         "rawType": "object",
         "type": "string"
        },
        {
         "name": "0",
         "rawType": "float64",
         "type": "float"
        }
       ],
       "ref": "fa605bad-92d4-4639-a24f-df6901e4c273",
       "rows": [
        [
         "petal_width",
         "0.04166666666666667"
        ],
        [
         "sepal_width",
         "0.41666666666666663"
        ]
       ],
       "shape": {
        "columns": 1,
        "rows": 2
       }
      },
      "text/plain": [
       "petal_width    0.041667\n",
       "sepal_width    0.416667\n",
       "dtype: float64"
      ]
     },
     "execution_count": 81,
     "metadata": {},
     "output_type": "execute_result"
    }
   ],
   "source": [
    "normalized_values = ([0.2, 3.0] - min_vals_in_input_train) / (max_vals_in_input_train - min_vals_in_input_train)\n",
    "normalized_values\n"
   ]
  },
  {
   "cell_type": "code",
   "execution_count": 82,
   "id": "aad6bd1f",
   "metadata": {},
   "outputs": [
    {
     "name": "stderr",
     "output_type": "stream",
     "text": [
      "C:\\Users\\Taylor.Odhiambo\\AppData\\Local\\Temp\\ipykernel_19388\\3219751161.py:1: FutureWarning: Series.__getitem__ treating keys as positions is deprecated. In a future version, integer keys will always be treated as labels (consistent with DataFrame behavior). To access a value by position, use `ser.iloc[pos]`\n",
      "  model(torch.tensor(normalized_values).type(torch.float32))\n"
     ]
    },
    {
     "data": {
      "text/plain": [
       "tensor([ 0.6896,  0.3253, -0.0843], grad_fn=<ViewBackward0>)"
      ]
     },
     "execution_count": 82,
     "metadata": {},
     "output_type": "execute_result"
    }
   ],
   "source": [
    "model(torch.tensor(normalized_values).type(torch.float32))"
   ]
  }
 ],
 "metadata": {
  "kernelspec": {
   "display_name": ".venv",
   "language": "python",
   "name": "python3"
  },
  "language_info": {
   "codemirror_mode": {
    "name": "ipython",
    "version": 3
   },
   "file_extension": ".py",
   "mimetype": "text/x-python",
   "name": "python",
   "nbconvert_exporter": "python",
   "pygments_lexer": "ipython3",
   "version": "3.12.10"
  }
 },
 "nbformat": 4,
 "nbformat_minor": 5
}

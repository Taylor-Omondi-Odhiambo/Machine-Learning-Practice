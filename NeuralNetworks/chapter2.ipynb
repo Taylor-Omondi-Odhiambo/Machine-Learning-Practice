{
 "cells": [
  {
   "cell_type": "code",
   "execution_count": 3,
   "id": "d6337391",
   "metadata": {},
   "outputs": [],
   "source": [
    "import torch\n",
    "import torch.nn as nn # torch.nn gives the nn.Module(), nn.Embedding() and nn.Linear()\n",
    "import torch.nn.functional as F # Has the RELU activation functional\n",
    "\n",
    "import matplotlib.pyplot as plt\n",
    "import seaborn as sns\n",
    "from torch.optim import SGD \n",
    "\n",
    "import lightning as L\n",
    "from torch.utils.data import TensorDataset, DataLoader"
   ]
  },
  {
   "cell_type": "code",
   "execution_count": 2,
   "id": "8306444c",
   "metadata": {},
   "outputs": [
    {
     "name": "stdout",
     "output_type": "stream",
     "text": [
      "Collecting lightning\n",
      "  Downloading lightning-2.5.5-py3-none-any.whl.metadata (39 kB)\n",
      "Requirement already satisfied: PyYAML<8.0,>5.4 in c:\\users\\taylor.odhiambo\\onedrive - kenya airways plc\\documents\\.venv\\lib\\site-packages (from lightning) (6.0.2)\n",
      "Requirement already satisfied: fsspec<2027.0,>=2022.5.0 in c:\\users\\taylor.odhiambo\\onedrive - kenya airways plc\\documents\\.venv\\lib\\site-packages (from fsspec[http]<2027.0,>=2022.5.0->lightning) (2025.9.0)\n",
      "Collecting lightning-utilities<2.0,>=0.10.0 (from lightning)\n",
      "  Downloading lightning_utilities-0.15.2-py3-none-any.whl.metadata (5.7 kB)\n",
      "Requirement already satisfied: packaging<27.0,>=20.0 in c:\\users\\taylor.odhiambo\\onedrive - kenya airways plc\\documents\\.venv\\lib\\site-packages (from lightning) (25.0)\n",
      "Requirement already satisfied: torch<4.0,>=2.1.0 in c:\\users\\taylor.odhiambo\\onedrive - kenya airways plc\\documents\\.venv\\lib\\site-packages (from lightning) (2.8.0)\n",
      "Collecting torchmetrics<3.0,>0.7.0 (from lightning)\n",
      "  Downloading torchmetrics-1.8.2-py3-none-any.whl.metadata (22 kB)\n",
      "Collecting tqdm<6.0,>=4.57.0 (from lightning)\n",
      "  Downloading tqdm-4.67.1-py3-none-any.whl.metadata (57 kB)\n",
      "Requirement already satisfied: typing-extensions<6.0,>4.5.0 in c:\\users\\taylor.odhiambo\\onedrive - kenya airways plc\\documents\\.venv\\lib\\site-packages (from lightning) (4.14.1)\n",
      "Collecting pytorch-lightning (from lightning)\n",
      "  Downloading pytorch_lightning-2.5.5-py3-none-any.whl.metadata (20 kB)\n",
      "Collecting aiohttp!=4.0.0a0,!=4.0.0a1 (from fsspec[http]<2027.0,>=2022.5.0->lightning)\n",
      "  Downloading aiohttp-3.12.15-cp312-cp312-win_amd64.whl.metadata (7.9 kB)\n",
      "Requirement already satisfied: setuptools in c:\\users\\taylor.odhiambo\\onedrive - kenya airways plc\\documents\\.venv\\lib\\site-packages (from lightning-utilities<2.0,>=0.10.0->lightning) (80.9.0)\n",
      "Requirement already satisfied: filelock in c:\\users\\taylor.odhiambo\\onedrive - kenya airways plc\\documents\\.venv\\lib\\site-packages (from torch<4.0,>=2.1.0->lightning) (3.19.1)\n",
      "Requirement already satisfied: sympy>=1.13.3 in c:\\users\\taylor.odhiambo\\onedrive - kenya airways plc\\documents\\.venv\\lib\\site-packages (from torch<4.0,>=2.1.0->lightning) (1.14.0)\n",
      "Requirement already satisfied: networkx in c:\\users\\taylor.odhiambo\\onedrive - kenya airways plc\\documents\\.venv\\lib\\site-packages (from torch<4.0,>=2.1.0->lightning) (3.5)\n",
      "Requirement already satisfied: jinja2 in c:\\users\\taylor.odhiambo\\onedrive - kenya airways plc\\documents\\.venv\\lib\\site-packages (from torch<4.0,>=2.1.0->lightning) (3.1.6)\n",
      "Requirement already satisfied: numpy>1.20.0 in c:\\users\\taylor.odhiambo\\onedrive - kenya airways plc\\documents\\.venv\\lib\\site-packages (from torchmetrics<3.0,>0.7.0->lightning) (2.3.2)\n",
      "Requirement already satisfied: colorama in c:\\users\\taylor.odhiambo\\onedrive - kenya airways plc\\documents\\.venv\\lib\\site-packages (from tqdm<6.0,>=4.57.0->lightning) (0.4.6)\n",
      "Collecting aiohappyeyeballs>=2.5.0 (from aiohttp!=4.0.0a0,!=4.0.0a1->fsspec[http]<2027.0,>=2022.5.0->lightning)\n",
      "  Downloading aiohappyeyeballs-2.6.1-py3-none-any.whl.metadata (5.9 kB)\n",
      "Collecting aiosignal>=1.4.0 (from aiohttp!=4.0.0a0,!=4.0.0a1->fsspec[http]<2027.0,>=2022.5.0->lightning)\n",
      "  Downloading aiosignal-1.4.0-py3-none-any.whl.metadata (3.7 kB)\n",
      "Collecting attrs>=17.3.0 (from aiohttp!=4.0.0a0,!=4.0.0a1->fsspec[http]<2027.0,>=2022.5.0->lightning)\n",
      "  Downloading attrs-25.3.0-py3-none-any.whl.metadata (10 kB)\n",
      "Collecting frozenlist>=1.1.1 (from aiohttp!=4.0.0a0,!=4.0.0a1->fsspec[http]<2027.0,>=2022.5.0->lightning)\n",
      "  Downloading frozenlist-1.7.0-cp312-cp312-win_amd64.whl.metadata (19 kB)\n",
      "Collecting multidict<7.0,>=4.5 (from aiohttp!=4.0.0a0,!=4.0.0a1->fsspec[http]<2027.0,>=2022.5.0->lightning)\n",
      "  Downloading multidict-6.6.4-cp312-cp312-win_amd64.whl.metadata (5.4 kB)\n",
      "Collecting propcache>=0.2.0 (from aiohttp!=4.0.0a0,!=4.0.0a1->fsspec[http]<2027.0,>=2022.5.0->lightning)\n",
      "  Downloading propcache-0.3.2-cp312-cp312-win_amd64.whl.metadata (12 kB)\n",
      "Collecting yarl<2.0,>=1.17.0 (from aiohttp!=4.0.0a0,!=4.0.0a1->fsspec[http]<2027.0,>=2022.5.0->lightning)\n",
      "  Downloading yarl-1.20.1-cp312-cp312-win_amd64.whl.metadata (76 kB)\n",
      "Requirement already satisfied: idna>=2.0 in c:\\users\\taylor.odhiambo\\onedrive - kenya airways plc\\documents\\.venv\\lib\\site-packages (from yarl<2.0,>=1.17.0->aiohttp!=4.0.0a0,!=4.0.0a1->fsspec[http]<2027.0,>=2022.5.0->lightning) (3.10)\n",
      "Requirement already satisfied: mpmath<1.4,>=1.1.0 in c:\\users\\taylor.odhiambo\\onedrive - kenya airways plc\\documents\\.venv\\lib\\site-packages (from sympy>=1.13.3->torch<4.0,>=2.1.0->lightning) (1.3.0)\n",
      "Requirement already satisfied: MarkupSafe>=2.0 in c:\\users\\taylor.odhiambo\\onedrive - kenya airways plc\\documents\\.venv\\lib\\site-packages (from jinja2->torch<4.0,>=2.1.0->lightning) (3.0.2)\n",
      "Downloading lightning-2.5.5-py3-none-any.whl (828 kB)\n",
      "   ---------------------------------------- 0.0/828.5 kB ? eta -:--:--\n",
      "   ------------------------------------- -- 786.4/828.5 kB 4.8 MB/s eta 0:00:01\n",
      "   ---------------------------------------- 828.5/828.5 kB 4.5 MB/s  0:00:00\n",
      "Downloading lightning_utilities-0.15.2-py3-none-any.whl (29 kB)\n",
      "Downloading torchmetrics-1.8.2-py3-none-any.whl (983 kB)\n",
      "   ---------------------------------------- 0.0/983.2 kB ? eta -:--:--\n",
      "   ---------------------------------------- 983.2/983.2 kB 5.8 MB/s  0:00:00\n",
      "Downloading tqdm-4.67.1-py3-none-any.whl (78 kB)\n",
      "Downloading aiohttp-3.12.15-cp312-cp312-win_amd64.whl (450 kB)\n",
      "Downloading multidict-6.6.4-cp312-cp312-win_amd64.whl (46 kB)\n",
      "Downloading yarl-1.20.1-cp312-cp312-win_amd64.whl (86 kB)\n",
      "Downloading aiohappyeyeballs-2.6.1-py3-none-any.whl (15 kB)\n",
      "Downloading aiosignal-1.4.0-py3-none-any.whl (7.5 kB)\n",
      "Downloading attrs-25.3.0-py3-none-any.whl (63 kB)\n",
      "Downloading frozenlist-1.7.0-cp312-cp312-win_amd64.whl (43 kB)\n",
      "Downloading propcache-0.3.2-cp312-cp312-win_amd64.whl (41 kB)\n",
      "Downloading pytorch_lightning-2.5.5-py3-none-any.whl (832 kB)\n",
      "   ---------------------------------------- 0.0/832.4 kB ? eta -:--:--\n",
      "   ---------------------------------------- 832.4/832.4 kB 7.3 MB/s  0:00:00\n",
      "Installing collected packages: tqdm, propcache, multidict, lightning-utilities, frozenlist, attrs, aiohappyeyeballs, yarl, aiosignal, torchmetrics, aiohttp, pytorch-lightning, lightning\n",
      "\n",
      "   ----------------------------------------  0/13 [tqdm]\n",
      "   --- ------------------------------------  1/13 [propcache]\n",
      "   --------- ------------------------------  3/13 [lightning-utilities]\n",
      "   --------------- ------------------------  5/13 [attrs]\n",
      "   --------------------- ------------------  7/13 [yarl]\n",
      "   --------------------------- ------------  9/13 [torchmetrics]\n",
      "   --------------------------- ------------  9/13 [torchmetrics]\n",
      "   --------------------------- ------------  9/13 [torchmetrics]\n",
      "   --------------------------- ------------  9/13 [torchmetrics]\n",
      "   --------------------------- ------------  9/13 [torchmetrics]\n",
      "   --------------------------- ------------  9/13 [torchmetrics]\n",
      "   --------------------------- ------------  9/13 [torchmetrics]\n",
      "   --------------------------- ------------  9/13 [torchmetrics]\n",
      "   --------------------------- ------------  9/13 [torchmetrics]\n",
      "   --------------------------- ------------  9/13 [torchmetrics]\n",
      "   --------------------------- ------------  9/13 [torchmetrics]\n",
      "   --------------------------- ------------  9/13 [torchmetrics]\n",
      "   --------------------------- ------------  9/13 [torchmetrics]\n",
      "   --------------------------- ------------  9/13 [torchmetrics]\n",
      "   --------------------------- ------------  9/13 [torchmetrics]\n",
      "   --------------------------- ------------  9/13 [torchmetrics]\n",
      "   --------------------------- ------------  9/13 [torchmetrics]\n",
      "   --------------------------- ------------  9/13 [torchmetrics]\n",
      "   ------------------------------ --------- 10/13 [aiohttp]\n",
      "   ------------------------------ --------- 10/13 [aiohttp]\n",
      "   ------------------------------ --------- 10/13 [aiohttp]\n",
      "   --------------------------------- ------ 11/13 [pytorch-lightning]\n",
      "   --------------------------------- ------ 11/13 [pytorch-lightning]\n",
      "   --------------------------------- ------ 11/13 [pytorch-lightning]\n",
      "   --------------------------------- ------ 11/13 [pytorch-lightning]\n",
      "   --------------------------------- ------ 11/13 [pytorch-lightning]\n",
      "   --------------------------------- ------ 11/13 [pytorch-lightning]\n",
      "   --------------------------------- ------ 11/13 [pytorch-lightning]\n",
      "   --------------------------------- ------ 11/13 [pytorch-lightning]\n",
      "   --------------------------------- ------ 11/13 [pytorch-lightning]\n",
      "   --------------------------------- ------ 11/13 [pytorch-lightning]\n",
      "   --------------------------------- ------ 11/13 [pytorch-lightning]\n",
      "   --------------------------------- ------ 11/13 [pytorch-lightning]\n",
      "   --------------------------------- ------ 11/13 [pytorch-lightning]\n",
      "   ------------------------------------ --- 12/13 [lightning]\n",
      "   ------------------------------------ --- 12/13 [lightning]\n",
      "   ------------------------------------ --- 12/13 [lightning]\n",
      "   ------------------------------------ --- 12/13 [lightning]\n",
      "   ------------------------------------ --- 12/13 [lightning]\n",
      "   ------------------------------------ --- 12/13 [lightning]\n",
      "   ------------------------------------ --- 12/13 [lightning]\n",
      "   ------------------------------------ --- 12/13 [lightning]\n",
      "   ------------------------------------ --- 12/13 [lightning]\n",
      "   ------------------------------------ --- 12/13 [lightning]\n",
      "   ------------------------------------ --- 12/13 [lightning]\n",
      "   ------------------------------------ --- 12/13 [lightning]\n",
      "   ------------------------------------ --- 12/13 [lightning]\n",
      "   ---------------------------------------- 13/13 [lightning]\n",
      "\n",
      "Successfully installed aiohappyeyeballs-2.6.1 aiohttp-3.12.15 aiosignal-1.4.0 attrs-25.3.0 frozenlist-1.7.0 lightning-2.5.5 lightning-utilities-0.15.2 multidict-6.6.4 propcache-0.3.2 pytorch-lightning-2.5.5 torchmetrics-1.8.2 tqdm-4.67.1 yarl-1.20.1\n",
      "Note: you may need to restart the kernel to use updated packages.\n"
     ]
    }
   ],
   "source": [
    "pip install lightning"
   ]
  },
  {
   "cell_type": "markdown",
   "id": "b008f2e5",
   "metadata": {},
   "source": [
    "# Initalize our training data"
   ]
  },
  {
   "cell_type": "code",
   "execution_count": null,
   "id": "66e0c3df",
   "metadata": {},
   "outputs": [],
   "source": [
    "# Inputs are the x-axis coordinates for each data point\n",
    "training_inputs = torch.tensor([0.0, 0.5, 1.0])\n",
    "\n",
    "#Labels are the y-axis coordinates for each data point\n",
    "training_labels = torch.tensor([0.0, 1.0, 0.0])\n",
    "\n",
    "#Putting everything into a data loader (More computationally efficient)\n",
    "training_dataset = TensorDataset(training_inputs, training_labels)\n",
    "dataloader = DataLoader(training_dataset)"
   ]
  },
  {
   "cell_type": "markdown",
   "id": "9d93761b",
   "metadata": {},
   "source": [
    "# Create a class of our Neural Network with random parameters"
   ]
  },
  {
   "cell_type": "code",
   "execution_count": 7,
   "id": "025b8ab1",
   "metadata": {},
   "outputs": [],
   "source": [
    "# We will inherit from Ligtning modu8le. It has everythin nn has including the ability to define the optimizer\n",
    "\n",
    "class myNN(L.LightningModule):\n",
    "\n",
    "    def __init__(self):\n",
    "        super().__init__()\n",
    "\n",
    "        self.w1 = nn.Parameter(torch.tensor(0.06))\n",
    "        self.b1 = nn.Parameter(torch.tensor(0.0))\n",
    "\n",
    "        self.w2 = nn.Parameter(torch.tensor(3.49))\n",
    "        self.b2 = nn.Parameter(torch.tensor(0.0))\n",
    "\n",
    "        self.w3 = nn.Parameter(torch.tensor(-4.11))\n",
    "        self.w4 = nn.Parameter(torch.tensor(2.74))\n",
    "\n",
    "        self.loss = nn.MSELoss(reduction='sum') # Use SSR as the loss function for the neural network\n",
    "\n",
    "    def forward(self, input_values):\n",
    "\n",
    "        top_x_axis_values = (input_values * self.w1) + self.b1\n",
    "        bottom_x_axis_values = (input_values * self.w2) + self.b2\n",
    "\n",
    "        top_y_axis_values = F.relu(top_x_axis_values)\n",
    "        bottom_y_axis_values = F.relu(bottom_x_axis_values)\n",
    "\n",
    "        output_values = (top_y_axis_values * self.w3) + (bottom_y_axis_values * self.w4)\n",
    "\n",
    "        return output_values\n",
    "    \n",
    "    def configure_optimizers(self): # Method that lets us choose the optimizer we want for backward propagation\n",
    "        return SGD(self.parameters(), lr = 0.01)\n",
    "    \n",
    "    def training_step(self, batch, batch_idx): # calculates loss using the following code\n",
    "\n",
    "        inputs, labels = batch # Colect input\n",
    "        outputs = self.forward(inputs) # Run the input through the neural network\n",
    "        loss = self.loss(outputs, labels) # Gets the difference between the observed and those predicted by the neural network\n",
    "\n",
    "        return loss\n",
    "    "
   ]
  },
  {
   "cell_type": "markdown",
   "id": "fa585ca7",
   "metadata": {},
   "source": [
    "# Seeing how badly an untrained model with random parameters fits out data"
   ]
  },
  {
   "cell_type": "code",
   "execution_count": null,
   "id": "0f97fb7e",
   "metadata": {},
   "outputs": [
    {
     "name": "stdout",
     "output_type": "stream",
     "text": [
      "w1 tensor(0.0600)\n",
      "b1 tensor(0.)\n",
      "w2 tensor(3.4900)\n",
      "b2 tensor(0.)\n",
      "w3 tensor(-4.1100)\n",
      "w4 tensor(2.7400)\n"
     ]
    }
   ],
   "source": [
    "# Make an instance of my class\n",
    "model = myNN()\n",
    "\n",
    "# Print the parameters in our network\n",
    "for name, param in model.named_parameters():\n",
    "    print(name, torch.round(param.data, decimals = 2))"
   ]
  },
  {
   "cell_type": "code",
   "execution_count": null,
   "id": "6a5ac506",
   "metadata": {},
   "outputs": [
    {
     "data": {
      "text/plain": [
       "tensor([0.0000, 4.6600, 9.3200], grad_fn=<RoundBackward1>)"
      ]
     },
     "execution_count": 11,
     "metadata": {},
     "output_type": "execute_result"
    }
   ],
   "source": [
    "# run the doses through the neural network\n",
    "output_values = model(training_inputs)\n",
    "torch.round(output_values, decimals = 2)"
   ]
  },
  {
   "cell_type": "code",
   "execution_count": 12,
   "id": "fe7f35cc",
   "metadata": {},
   "outputs": [
    {
     "data": {
      "text/plain": [
       "tensor([0.0000, 0.1000, 0.2000, 0.3000, 0.4000, 0.5000, 0.6000, 0.7000, 0.8000,\n",
       "        0.9000, 1.0000])"
      ]
     },
     "execution_count": 12,
     "metadata": {},
     "output_type": "execute_result"
    }
   ],
   "source": [
    "# The effectiveness values produced from the model are very different from the training data.\n",
    "#  We will draw a graph to see how the current untrained model with random parameters fits out data\n",
    "\n",
    "input_doses = torch.linspace(start = 0, end = 1, steps = 11)\n",
    "\n",
    "input_doses"
   ]
  },
  {
   "cell_type": "code",
   "execution_count": 13,
   "id": "0b4c81c7",
   "metadata": {},
   "outputs": [
    {
     "data": {
      "text/plain": [
       "tensor([0.0000, 0.9316, 1.8632, 2.7948, 3.7264, 4.6580, 5.5896, 6.5212, 7.4528,\n",
       "        8.3844, 9.3160], grad_fn=<AddBackward0>)"
      ]
     },
     "execution_count": 13,
     "metadata": {},
     "output_type": "execute_result"
    }
   ],
   "source": [
    "# Putting random data through the model to plot\n",
    "output_values = model(input_doses)\n",
    "\n",
    "output_values"
   ]
  },
  {
   "cell_type": "code",
   "execution_count": 16,
   "id": "9b2b160c",
   "metadata": {},
   "outputs": [
    {
     "data": {
      "text/plain": [
       "Text(0, 0.5, 'Effectiveness')"
      ]
     },
     "execution_count": 16,
     "metadata": {},
     "output_type": "execute_result"
    },
    {
     "data": {
      "image/png": "[encoded data removed]",
      "text/plain": [
       "<Figure size 640x480 with 1 Axes>"
      ]
     },
     "metadata": {},
     "output_type": "display_data"
    }
   ],
   "source": [
    "# The graph should fit the data poorly as we have not trained the model yet\n",
    "\n",
    "sns.set(style = 'whitegrid')\n",
    "\n",
    "sns.scatterplot(x = input_doses,\n",
    "                y = output_values.detach().numpy(),\n",
    "                color = 'green',\n",
    "                s = 200\n",
    "                )\n",
    "\n",
    "sns.lineplot(x = input_doses,\n",
    "             y = output_values.detach().numpy(),\n",
    "            color = 'green',\n",
    "            linewidth = 2.5 )\n",
    "\n",
    "# Data in the training data\n",
    "\n",
    "sns.scatterplot( x = training_inputs,\n",
    "                y = training_labels,\n",
    "                color = 'orange',\n",
    "                s = 200\n",
    ")\n",
    "plt.xlabel('Dose')\n",
    "plt.ylabel('Effectiveness')"
   ]
  },
  {
   "cell_type": "markdown",
   "id": "17240472",
   "metadata": {},
   "source": [
    "# Training the Weights and Biases of the Neural Network"
   ]
  },
  {
   "cell_type": "code",
   "execution_count": null,
   "id": "240e5240",
   "metadata": {},
   "outputs": [
    {
     "name": "stderr",
     "output_type": "stream",
     "text": [
      "GPU available: False, used: False\n",
      "TPU available: False, using: 0 TPU cores\n",
      "HPU available: False, using: 0 HPUs\n",
      "\n",
      "  | Name         | Type    | Params | Mode \n",
      "-------------------------------------------------\n",
      "0 | loss         | MSELoss | 0      | train\n",
      "  | other params | n/a     | 6      | n/a  \n",
      "-------------------------------------------------\n",
      "6         Trainable params\n",
      "0         Non-trainable params\n",
      "6         Total params\n",
      "0.000     Total estimated model params size (MB)\n",
      "1         Modules in train mode\n",
      "0         Modules in eval mode\n",
      "c:\\Users\\Taylor.Odhiambo\\OneDrive - Kenya Airways PLC\\Documents\\.venv\\Lib\\site-packages\\lightning\\pytorch\\trainer\\connectors\\data_connector.py:433: The 'train_dataloader' does not have many workers which may be a bottleneck. Consider increasing the value of the `num_workers` argument` to `num_workers=11` in the `DataLoader` to improve performance.\n",
      "`Trainer.fit` stopped: `max_epochs=500` reached.\n"
     ]
    }
   ],
   "source": [
    "model = myNN()\n",
    "\n",
    "#Train using L.trainer and the fit method\n",
    "\n",
    "trainer = L.Trainer(max_epochs = 500, # Go thorugh training data 500 times\n",
    "                    logger = False,\n",
    "                    enable_checkpointing = False,\n",
    "                    enable_progress_bar = False)\n",
    "\n",
    "trainer.fit(model, train_dataloaders = dataloader)"
   ]
  },
  {
   "cell_type": "code",
   "execution_count": 19,
   "id": "933f7fef",
   "metadata": {},
   "outputs": [
    {
     "name": "stdout",
     "output_type": "stream",
     "text": [
      "w1 tensor(1.4790)\n",
      "b1 tensor(-0.5680)\n",
      "w2 tensor(2.6980)\n",
      "b2 tensor(-0.2580)\n",
      "w3 tensor(-4.2400)\n",
      "w4 tensor(1.5830)\n"
     ]
    }
   ],
   "source": [
    "for name, param in model.named_parameters():\n",
    "    print(name, torch.round(param.data, decimals = 3))"
   ]
  },
  {
   "cell_type": "markdown",
   "id": "76cb0f6e",
   "metadata": {},
   "source": [
    "# Comparing our new trained model to training data"
   ]
  },
  {
   "cell_type": "code",
   "execution_count": 20,
   "id": "5339f986",
   "metadata": {},
   "outputs": [
    {
     "data": {
      "text/plain": [
       "tensor([0.0000, 0.0200, 0.4500, 0.8700, 1.2000, 1.0000, 0.8000, 0.6000, 0.4000,\n",
       "        0.2000, 0.0000], grad_fn=<RoundBackward1>)"
      ]
     },
     "execution_count": 20,
     "metadata": {},
     "output_type": "execute_result"
    }
   ],
   "source": [
    "output_values = model(input_doses)\n",
    "torch.round(output_values, decimals = 2)"
   ]
  },
  {
   "cell_type": "code",
   "execution_count": 21,
   "id": "40ca3417",
   "metadata": {},
   "outputs": [
    {
     "data": {
      "text/plain": [
       "Text(0.5, 0, 'Dose')"
      ]
     },
     "execution_count": 21,
     "metadata": {},
     "output_type": "execute_result"
    },
    {
     "data": {
      "image/png": "[encoded data removed]",
      "text/plain": [
       "<Figure size 640x480 with 1 Axes>"
      ]
     },
     "metadata": {},
     "output_type": "display_data"
    }
   ],
   "source": [
    "sns.set(style = 'whitegrid')\n",
    "\n",
    "sns.scatterplot(x = input_doses,\n",
    "                y = output_values.detach().numpy(),\n",
    "                color = 'green',\n",
    "                s = 200)\n",
    "\n",
    "sns.lineplot(x = input_doses,\n",
    "             y = output_values.detach().numpy(),\n",
    "             color = 'green',\n",
    "             linewidth = 2.5)\n",
    "\n",
    "# Plot what we have in the training data\n",
    "\n",
    "sns.scatterplot(x = training_inputs,\n",
    "                y = training_labels,\n",
    "                color = 'orange',\n",
    "                s = 200)\n",
    "\n",
    "plt.ylabel('Effectiveness')\n",
    "plt.xlabel('Dose')"
   ]
  }
 ],
 "metadata": {
  "kernelspec": {
   "display_name": ".venv",
   "language": "python",
   "name": "python3"
  },
  "language_info": {
   "codemirror_mode": {
    "name": "ipython",
    "version": 3
   },
   "file_extension": ".py",
   "mimetype": "text/x-python",
   "name": "python",
   "nbconvert_exporter": "python",
   "pygments_lexer": "ipython3",
   "version": "3.12.10"
  }
 },
 "nbformat": 4,
 "nbformat_minor": 5
}
